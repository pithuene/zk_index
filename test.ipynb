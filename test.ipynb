{
 "cells": [
  {
   "cell_type": "code",
   "execution_count": 6,
   "metadata": {},
   "outputs": [
    {
     "name": "stdout",
     "output_type": "stream",
     "text": [
      "The autoreload extension is already loaded. To reload it, use:\n",
      "  %reload_ext autoreload\n"
     ]
    }
   ],
   "source": [
    "%load_ext autoreload\n",
    "%autoreload 2"
   ]
  },
  {
   "cell_type": "code",
   "execution_count": 7,
   "metadata": {},
   "outputs": [],
   "source": [
    "from typing import List\n",
    "import unittest\n",
    "from pprint import pprint\n",
    "from index_extensions.index_tasks import find_date_with_marker"
   ]
  },
  {
   "cell_type": "code",
   "execution_count": 8,
   "metadata": {},
   "outputs": [],
   "source": [
    "def test_output(msg, output, expected):\n",
    "    passed = output == expected\n",
    "    if not passed:\n",
    "        print(\"Expected:\")\n",
    "        pprint(expected)\n",
    "        print(\"Actual output:\")\n",
    "        pprint(output)\n",
    "    assert passed, msg"
   ]
  },
  {
   "cell_type": "code",
   "execution_count": 9,
   "metadata": {},
   "outputs": [],
   "source": [
    "content =  \"This is a task that must be done\"\n",
    "test_output(\n",
    "    \"Test with no due date\",\n",
    "    find_date_with_marker(\"📅\", content),\n",
    "    (content, None),\n",
    ")"
   ]
  },
  {
   "cell_type": "code",
   "execution_count": 10,
   "metadata": {},
   "outputs": [],
   "source": [
    "test_output(\n",
    "    \"Test with due date\",\n",
    "    find_date_with_marker(\"📅\", \"This is a task 📅 2021-10-10 that must be done\"),\n",
    "    (\"This is a task that must be done\", \"2021-10-10\"),\n",
    ")"
   ]
  },
  {
   "cell_type": "code",
   "execution_count": 11,
   "metadata": {},
   "outputs": [],
   "source": [
    "test_output(\n",
    "    \"Test with due date at the beginning\",\n",
    "    find_date_with_marker(\"📅\", \"📅 2021-10-10 This is a task that must be done\"),\n",
    "    (\"This is a task that must be done\", \"2021-10-10\"),\n",
    ")"
   ]
  },
  {
   "cell_type": "code",
   "execution_count": 12,
   "metadata": {},
   "outputs": [],
   "source": [
    "test_output(\n",
    "    \"Test with due date at the end\",\n",
    "    find_date_with_marker(\"📅\", \"This is a task that must be done 📅 2021-10-10\"),\n",
    "    (\"This is a task that must be done\", \"2021-10-10\"),\n",
    ")"
   ]
  },
  {
   "cell_type": "code",
   "execution_count": 13,
   "metadata": {},
   "outputs": [],
   "source": [
    "test_output(\n",
    "    \"Test with multiple due dates\",\n",
    "    find_date_with_marker(\"📅\", \"This is a task 📅 2021-12-12 that must be done 📅 2021-10-11\"),\n",
    "    (\"This is a task that must be done 📅 2021-10-11\", \"2021-12-12\"),\n",
    ")"
   ]
  }
 ],
 "metadata": {
  "kernelspec": {
   "display_name": "Python 3",
   "language": "python",
   "name": "python3"
  },
  "language_info": {
   "codemirror_mode": {
    "name": "ipython",
    "version": 3
   },
   "file_extension": ".py",
   "mimetype": "text/x-python",
   "name": "python",
   "nbconvert_exporter": "python",
   "pygments_lexer": "ipython3",
   "version": "3.10.11"
  },
  "orig_nbformat": 4
 },
 "nbformat": 4,
 "nbformat_minor": 2
}
